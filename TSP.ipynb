{
 "cells": [
  {
   "cell_type": "code",
   "execution_count": 1,
   "metadata": {
    "collapsed": true
   },
   "outputs": [],
   "source": [
    "import os\n",
    "import time\n",
    "import numpy as np\n",
    "import random as rnd"
   ]
  },
  {
   "cell_type": "code",
   "execution_count": 2,
   "metadata": {
    "collapsed": true
   },
   "outputs": [],
   "source": [
    "#Instances in each generation\n",
    "n_population = 100\n",
    "\n",
    "#Iterations\n",
    "n_generation = 100\n",
    "\n",
    "# Mutation Chance\n",
    "prob_mutation = 0.8\n",
    "\n",
    "# Crossover Chance\n",
    "prob_crossover = 0.8"
   ]
  },
  {
   "cell_type": "code",
   "execution_count": 3,
   "metadata": {
    "collapsed": true
   },
   "outputs": [],
   "source": [
    "def get_best(generation,distance_matrix,n_cities):\n",
    "    \n",
    "    new_generation = []\n",
    "    \n",
    "    prob, fit, dist = fitness(generation,distance_matrix)\n",
    "    \n",
    "    gene = (generation[0],dist[0],fit[0])\n",
    "    \n",
    "    for i in range(n_population):\n",
    "    \n",
    "        #Find Parents\n",
    "        parents = selection(generation,prob,fit,dist)\n",
    "        #Get Child\n",
    "        child = get_child(parents,distance_matrix,n_cities)\n",
    "       \n",
    "        # Check if the CHILD formed is better\n",
    "        if child[2] > gene[2]:\n",
    "            gene = child\n",
    "            \n",
    "        new_generation.append(child[0])\n",
    "    \n",
    "    #Generation = [Permutation of Numbers]\n",
    "    #Gene = [Gene, Distance, Fitness]\n",
    "    return generation, gene\n",
    "        "
   ]
  },
  {
   "cell_type": "code",
   "execution_count": 4,
   "metadata": {},
   "outputs": [],
   "source": [
    "def selection(generation,prob,fitness,distance):\n",
    "    \n",
    "    parent = []\n",
    "    \n",
    "    rand_prob = rnd.random()\n",
    "    \n",
    "#     bprob = probability[0]\n",
    "#     sbprob = probability[1]\n",
    "    \n",
    "    parent.append(generation[0])\n",
    "    parent.append(generation[1])\n",
    "    \n",
    "    parent1=False\n",
    "    \n",
    "    #Iterate over all Population\n",
    "    for i in range(0,len(generation)):\n",
    "        \n",
    "        if prob[i] > rand_prob and parent1 == False:\n",
    "            parent[0] = (generation[i],distance[i],fitness[i])\n",
    "            parent1 = True\n",
    "            \n",
    "        elif  prob[i] > rand_prob:\n",
    "            parent[1] = (generation[i],distance[i],fitness[i])\n",
    "            break\n",
    "    \n",
    "    \n",
    "#     #Iterate over all Population\n",
    "#     for i in range(1,len(generation)):\n",
    "        \n",
    "#         if bprob < probability[i]:\n",
    "#             sbprob = bprob\n",
    "#             bprob = probability[i]\n",
    "#             parent[1] = parent[0]\n",
    "#             parent[0] = (generation[i],distance[i],fitness[i])\n",
    "            \n",
    "#         elif sbprob < probability[i]:\n",
    "#             sbprob = probability[i]\n",
    "#             parent[1] = (generation[i],distance[i],fitness[i])\n",
    "    \n",
    "    #Parent  = [Gene, Distance, Fitness]\n",
    "    return parent"
   ]
  },
  {
   "cell_type": "code",
   "execution_count": 5,
   "metadata": {
    "collapsed": true
   },
   "outputs": [],
   "source": [
    "def get_child(parent,distance_matrix,n_cities):\n",
    "    \n",
    "    x = rnd.random()\n",
    "    \n",
    "    if x < prob_crossover:   \n",
    "        m_child = crossover(parent,n_cities)\n",
    "    else:\n",
    "        m_child = parent[0][0]\n",
    "    \n",
    "    y = rnd.random()\n",
    "    \n",
    "    if y < prob_mutation:\n",
    "        xchild = mutate(m_child)\n",
    "    else:\n",
    "        x_child = m_child\n",
    "    \n",
    "    fit,dist = calc_fitness(xchild,distance_matrix)\n",
    "    \n",
    "    child = (gene, dist, fit)\n",
    "    \n",
    "    #Child  = [Gene, Distance, Fitness]\n",
    "    return child"
   ]
  },
  {
   "cell_type": "code",
   "execution_count": 6,
   "metadata": {},
   "outputs": [],
   "source": [
    "def crossover(parent,n_cities):\n",
    "    \n",
    "#     n_cities = len(parent[0][0])\n",
    "    \n",
    "    child = np.zeros(n_cities)\n",
    "    city_used = dict()\n",
    "    \n",
    "    startx = rnd.randrange(0,n_cities)\n",
    "    endx = rnd.randrange(startx,n_cities)\n",
    "    \n",
    "    for i in range(1,n_cities+1):\n",
    "        city_used[i] = False\n",
    "    \n",
    "    for i in range(startx,endx):\n",
    "        child[i] = parent[0][0][i]\n",
    "        city_used[child[i]] = True\n",
    "    \n",
    "    end = 0\n",
    "    \n",
    "    for i in range(endx,n_cities):\n",
    "        for j in range(end,n_cities):\n",
    "            if city_used[parent[1][0][j]] == False:\n",
    "                child[i] = parent[1][0][j]\n",
    "                city_used[child[i]] = True\n",
    "                end = j+1\n",
    "                break\n",
    "                \n",
    "    for i in range(startx):\n",
    "        for j in range(end,n_cities):\n",
    "            if city_used[parent[1][1][j]] == False:\n",
    "                child[i] = parent[1][1][j]\n",
    "                city_used[child[i]] = True\n",
    "                break\n",
    "        \n",
    "    #child  = [Gene]\n",
    "    return child"
   ]
  },
  {
   "cell_type": "code",
   "execution_count": 7,
   "metadata": {
    "collapsed": true
   },
   "outputs": [],
   "source": [
    "def mutate(m_child):\n",
    "    \n",
    "    startx = rnd.randrange(0,n_cities)\n",
    "    endx = rnd.randrange(startx,n_cities)\n",
    "    \n",
    "    temp = m_child[endx]\n",
    "    m_child[endx] = child[startx]\n",
    "    m_child[startx] = temp\n",
    "    \n",
    "    #m_child  = Gene\n",
    "    return child"
   ]
  },
  {
   "cell_type": "code",
   "execution_count": 8,
   "metadata": {
    "collapsed": true
   },
   "outputs": [],
   "source": [
    "def encoding(n_cities):\n",
    "    \n",
    "    generation = []\n",
    "    gene = []\n",
    "    \n",
    "    #enc_gen = dict(False)\n",
    "    \n",
    "    for i in range(n_population):\n",
    "        gene =  np.random.permutation(n_cities)\n",
    "        generation.append(gene)\n",
    "            \n",
    "    #Generation = [Permutation of Numbers]\n",
    "    return generation"
   ]
  },
  {
   "cell_type": "code",
   "execution_count": 9,
   "metadata": {
    "collapsed": true
   },
   "outputs": [],
   "source": [
    "def calc_fitness(gene,distance_matrix):\n",
    "    \n",
    "    dist = 0.0\n",
    "    \n",
    "    for i in range(len(gene)-1):\n",
    "        dist += distance_matrix[gene[i]][gene[i+1]]\n",
    "    \n",
    "    fitness = 1/dist\n",
    "    \n",
    "    #Return Fitness and Distance of a Gene\n",
    "    return fitness,dist"
   ]
  },
  {
   "cell_type": "code",
   "execution_count": 10,
   "metadata": {
    "collapsed": true
   },
   "outputs": [],
   "source": [
    "def fitness(generation,distance_matrix):\n",
    "    \n",
    "    s_fitness = 0\n",
    "    \n",
    "    prob = dict()  \n",
    "    distance = dict()\n",
    "    fitness=dict()\n",
    "    \n",
    "    i=0\n",
    "    \n",
    "    for gene in generation:\n",
    "        fit,dist = calc_fitness(gene,distance_matrix)\n",
    "        s_fitness += fit\n",
    "        #prob[i] = fit\n",
    "        fitness[i] = fit\n",
    "        distance[i] = dist\n",
    "        i+=1\n",
    "    \n",
    "    i=0\n",
    "    \n",
    "    for gene in generation:\n",
    "        prob[i] = fitness[i]/s_fitness\n",
    "        i+=1\n",
    "    \n",
    "    #Return Probability, Fitness, Distance of full generation\n",
    "    return prob,fitness,distance"
   ]
  },
  {
   "cell_type": "code",
   "execution_count": 33,
   "metadata": {},
   "outputs": [],
   "source": [
    "def read_data(filename):\n",
    "    \n",
    "    file = open(filename,\"r\")\n",
    "    lines = file.readlines()\n",
    "    \n",
    "    data_type = lines[0]\n",
    "    n_cities = int(lines[1])\n",
    "    \n",
    "    cities = dict()\n",
    "\n",
    "    for i in range(2,n_cities+2): \n",
    "        x = lines[i].split(\"\\n\")\n",
    "        y = x[0].split(\" \")\n",
    "\n",
    "        #cities[i-2].append((i-1,y))\n",
    "        cities[i-2] = y\n",
    "\n",
    "    distance_matrix = np.zeros((n_cities,n_cities))\n",
    "\n",
    "    for i in range(n_cities+2,2*n_cities+2):\n",
    "        x = lines[i].split(\"\\n\")\n",
    "        y = x[0].split(\" \")\n",
    "\n",
    "        for j in range(0,n_cities):\n",
    "            distance_matrix[i-n_cities-2][j] = float(y[j])\n",
    "\n",
    "    print(distance_matrix)\n",
    "\n",
    "    return n_cities, cities, distance_matrix   \n",
    "\n",
    "    "
   ]
  },
  {
   "cell_type": "code",
   "execution_count": 34,
   "metadata": {
    "collapsed": true
   },
   "outputs": [],
   "source": [
    "def main():\n",
    "    \n",
    "    dataset=[\"euc_100\",\"euc_250\",\"euc_500\",\"noneuc_100\",\"noneuc_250\",\"noneuc_500\"]\n",
    "    \n",
    "    n_cities, cities, distance_matrix = read_data(\"abc\")\n",
    "    \n",
    "    #First Generation\n",
    "    generation = encoding(n_cities)\n",
    "    \n",
    "    best_gene = (generation[0],0.0,0.0)\n",
    "      \n",
    "#     for i in range(n_generation):\n",
    "        \n",
    "#         generation, gene =  get_best(generation,distance_matrix,n_cities)\n",
    "        \n",
    "#         if gene[2] > best_gene[2]:\n",
    "#             best_gene = gene\n",
    "        \n",
    "#         print(\"Distance = \",best_gene[1])\n",
    "    \n",
    "#     print(\"Distance = \",best_gene[1])"
   ]
  },
  {
   "cell_type": "code",
   "execution_count": 35,
   "metadata": {},
   "outputs": [
    {
     "name": "stdout",
     "output_type": "stream",
     "text": [
      "[[ 1.  2.  3.]\n",
      " [ 4.  5.  6.]\n",
      " [ 7.  8.  9.]]\n"
     ]
    }
   ],
   "source": [
    "# if __name__ == \"__main__\":\n",
    "main()"
   ]
  },
  {
   "cell_type": "code",
   "execution_count": null,
   "metadata": {
    "collapsed": true
   },
   "outputs": [],
   "source": []
  },
  {
   "cell_type": "code",
   "execution_count": null,
   "metadata": {
    "collapsed": true
   },
   "outputs": [],
   "source": []
  }
 ],
 "metadata": {
  "kernelspec": {
   "display_name": "Python 3",
   "language": "python",
   "name": "python3"
  },
  "language_info": {
   "codemirror_mode": {
    "name": "ipython",
    "version": 3
   },
   "file_extension": ".py",
   "mimetype": "text/x-python",
   "name": "python",
   "nbconvert_exporter": "python",
   "pygments_lexer": "ipython3",
   "version": "3.6.1"
  }
 },
 "nbformat": 4,
 "nbformat_minor": 2
}
